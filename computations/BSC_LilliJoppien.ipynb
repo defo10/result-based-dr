{
 "cells": [
  {
   "cell_type": "code",
   "execution_count": 1,
   "metadata": {},
   "outputs": [],
   "source": [
    "import os\n",
    "from sklearn.metrics import silhouette_samples\n",
    "import numpy as np\n",
    "import json\n",
    "import matplotlib.pyplot as plt\n",
    "import math\n",
    "from itertools import combinations\n",
    "from scipy.spatial.distance import cdist, pdist, squareform\n",
    "from scipy.spatial import Delaunay\n",
    "from scipy.interpolate import griddata\n",
    "from scipy.stats.mstats import spearmanr\n",
    "from sklearn import preprocessing\n",
    "import pandas as pd\n",
    "import networkx as nx\n",
    "import bisect\n",
    "from collections import Counter\n",
    "from sklearn.manifold import TSNE\n",
    "\n",
    "def connected_component_subgraphs(G):\n",
    "    for c in nx.connected_components(G):\n",
    "        yield G.subgraph(c)"
   ]
  },
  {
   "cell_type": "code",
   "execution_count": 2,
   "metadata": {
    "scrolled": true
   },
   "outputs": [],
   "source": [
    "def load_results():\n",
    "    dumps = []\n",
    "    for filename in os.listdir('pipeline-results'):\n",
    "        with open(\"pipeline-results/\"+filename) as json_file:\n",
    "            projects = json.load(json_file)\n",
    "            scaledProjects = preprocessing.minmax_scale([i[\"mappoint\"] for i in projects])\n",
    "        dumps.append({'name':filename,'seed':int(filename[-9:-8]),'projects':scaledProjects.tolist(),\n",
    "                        'entropies': [i['entropy'] for i in projects], 'lr': projects[0]['lr'], 'perp': projects[0]['perp'],\n",
    "                      'fbs': [i['project_data']['fb'] for i in projects],'ids': [i['project_data']['id'] for i in projects],\n",
    "                     'titles': [i['project_data']['title'] for i in projects] })\n",
    "    return dumps"
   ]
  },
  {
   "cell_type": "code",
   "execution_count": 3,
   "metadata": {},
   "outputs": [],
   "source": [
    "def getTsneFromDumps(dumps, dim=1, perp=30,lr=100):\n",
    "    X = np.array([list(sum([(i['projects'][j][0],i['projects'][j][1] )\n",
    "                       for j in range(len(i['fbs']))], ())) for i in dumps])\n",
    "    X_embedded = TSNE(n_components=dim,perplexity=perp,learning_rate=lr).fit_transform(X)\n",
    "    if dim > 1:\n",
    "        plt.scatter([i[0] for i in X_embedded],[i[1] for i in X_embedded],15,\n",
    "                    [stability(x['projects'],13) for x in dumps])\n",
    "        for i in range(len(dumps)):\n",
    "            dumps[i]['x_tsne'] = float(X_embedded[i][0])\n",
    "            dumps[i]['y_tsne'] = float(X_embedded[i][1])\n",
    "    else:\n",
    "        plt.scatter(X_embedded,[i['perp'] for i in dumps],15,\n",
    "                    [stability(x['projects'],21) for x in dumps])\n",
    "        for i in range(len(dumps)):\n",
    "            dumps[i]['x_tsne'] = float(X_embedded[i][0])\n",
    "    return dumps\n",
    "\n",
    "def m_tsne(dumps, dim=1, perp=30,lr=100):\n",
    "    X = np.array([list(sum([(i['projects'][j][0],i['projects'][j][1] )\n",
    "                       for j in range(len(i['fbs']))], ())) for i in dumps])\n",
    "\n",
    "    X_embedded = TSNE(n_components=dim,perplexity=perp,learning_rate=lr).fit_transform(X)\n",
    "\n",
    "    for i in range(len(dumps)):\n",
    "        dumps[i]['x_tsne'] = float(X_embedded[i][0])\n",
    "    return dumps\n",
    "            "
   ]
  },
  {
   "cell_type": "code",
   "execution_count": 4,
   "metadata": {},
   "outputs": [],
   "source": [
    "def m_silhouette(projects,fbs):\n",
    "    similarity_to_cluster_centers = silhouette_samples(np.array([i for i in projects]), labels=np.array( fbs))\n",
    "    return np.average(similarity_to_cluster_centers)"
   ]
  },
  {
   "cell_type": "code",
   "execution_count": 5,
   "metadata": {},
   "outputs": [],
   "source": [
    "def m_smallest_dists(projects):\n",
    "    distances = pdist(projects)\n",
    "    distances.sort()\n",
    "    return sum(distances[:len(projects)])/len(projects)\n"
   ]
  },
  {
   "cell_type": "code",
   "execution_count": 6,
   "metadata": {},
   "outputs": [],
   "source": [
    "def m_x_y_spread(projects):\n",
    "    distances = cdist(projects,[[2,2],[2,-2],[-2,-2],[-2,2]])\n",
    "    distance_measure = (sum([i[0] for i in distances])/sum([i[1] for i in distances]) +\n",
    "                        sum([i[2] for i in distances])/sum([i[3] for i in distances]))\n",
    "    return distance_measure"
   ]
  },
  {
   "cell_type": "code",
   "execution_count": 7,
   "metadata": {},
   "outputs": [],
   "source": [
    "def m_stability(projects,i):\n",
    "    return math.atan(projects[i][1]/(projects[i][0]+0.0001))"
   ]
  },
  {
   "cell_type": "code",
   "execution_count": 8,
   "metadata": {},
   "outputs": [],
   "source": [
    "def m_spearmanr(projects):\n",
    "    return spearmanr([i[0] for i in projects],[i[1] for i in projects]).correlation"
   ]
  },
  {
   "cell_type": "code",
   "execution_count": 9,
   "metadata": {
    "scrolled": true
   },
   "outputs": [],
   "source": [
    "def m_mst_graph(projects):\n",
    "    df = pd.DataFrame(data=projects, columns=['x','y'])\n",
    "    graph = nx.Graph()\n",
    "    graph.add_nodes_from(df.iterrows())\n",
    "    dists = pdist(df[[\"x\", \"y\"]])\n",
    "    dists = squareform(dists)\n",
    "    graph.add_weighted_edges_from([(p1, p2,dists[p1][p2]) for p1, p2 in combinations(df.index.values, 2)])\n",
    "    graph= nx.minimum_spanning_tree(graph, weight='weight')\n",
    "    return graph"
   ]
  },
  {
   "cell_type": "code",
   "execution_count": 10,
   "metadata": {},
   "outputs": [],
   "source": [
    "def getAllMSTGraphs(layouts):\n",
    "    graphs = []\n",
    "    for layout in layouts:\n",
    "        graph = m_mst_graph(pd.DataFrame(data=layout['projects'], columns=['x','y']))\n",
    "        graphs[layout['name']] = graph\n",
    "    return graphs"
   ]
  },
  {
   "cell_type": "code",
   "execution_count": 11,
   "metadata": {},
   "outputs": [],
   "source": [
    "def m_scagnostics(graph):\n",
    "    weights = [graph[a][b]['weight'] for a,b in graph.edges]\n",
    "    weights.sort()\n",
    "    quant25 = np.quantile(weights,0.25)\n",
    "    quant75 = np.quantile(weights,0.75)\n",
    "    quant10 = np.quantile(weights,0.1)\n",
    "    quant90 = np.quantile(weights,0.9)\n",
    "    quant50 = np.quantile(weights,0.5)\n",
    "    crit = quant75 + 1.5*(quant75-quant25)\n",
    "    longEdgesSum = np.sum(list(filter(lambda x: x>crit, weights)))\n",
    "    outlying = longEdgesSum/np.sum(weights)\n",
    "    skewed = (quant90-quant50)/(quant90-quant10)\n",
    "    subgraphs = [graph.copy() for a,b in graph.edges]\n",
    "    edges = [[a,b] for a,b in graph.edges]\n",
    "    i= 0\n",
    "    clumpylist = []\n",
    "    for g in subgraphs:\n",
    "        g.remove_edge(edges[i][0],edges[i][1])\n",
    "        minComp = min(connected_component_subgraphs(g), key=len)\n",
    "        if len(minComp.edges) >0 and graph[edges[i][0]][edges[i][1]]['weight'] > 0:\n",
    "            maxEdge = max([g[a][b]['weight'] for a,b in minComp.edges])\n",
    "            maxEdge = max(0.00001,maxEdge)\n",
    "            val = 1- (maxEdge/graph[edges[i][0]][edges[i][1]]['weight'])\n",
    "            clumpylist.append(val)\n",
    "        i+=1\n",
    "    clumpy = max(clumpylist)\n",
    "    sparse = min(1,quant90)\n",
    "    return {'outlying':outlying,'skewed':skewed,'clumpy':clumpy,'sparse':sparse}"
   ]
  },
  {
   "cell_type": "code",
   "execution_count": 12,
   "metadata": {},
   "outputs": [],
   "source": [
    "def m_mean_jaccard(graph1,graph2,v):\n",
    "    c = 1/v\n",
    "    sumOfVals = 0\n",
    "    for i in range(v):\n",
    "        N1 = [n for n in graph1.neighbors(i)]\n",
    "        N2 = [n for n in graph2.neighbors(i)]\n",
    "        sumOfVals+= len(list(set(N1) & set(N2)))/len(list(set(N1) | set(N2)))\n",
    "    return sumOfVals*c\n",
    "\n",
    "def allMeanJaccardSimilaritiesMST(allGraphs):\n",
    "    similarities = [{'Dump1':str(p1[0]),\n",
    "                     'Dump2':str(p2[0]),\n",
    "                     'value':meanJaccardSimilarity(p1[1], p2[1],92)} \n",
    "                    for p1, p2 in combinations(allGraphs, 2)]\n",
    "    return similarities\n",
    "\n",
    "#simGraph = allMeanJaccardSimilaritiesMST(graphsFromDump)"
   ]
  },
  {
   "cell_type": "code",
   "execution_count": 13,
   "metadata": {},
   "outputs": [],
   "source": [
    "def computeClusterTopography(points, values, width, height, interpolation='cubic'):\n",
    "    # lay grid over the points so that all points are covered\n",
    "    grid_x, grid_y = np.mgrid[np.min(points[:,0]):np.max(points[:,0]):width*1j, np.min(points[:,1]):np.max(points[:,1]):height*1j]\n",
    "    return grid_x, grid_y,griddata(np.array(points), np.array(values[:len(points)]), (grid_x, grid_y), method=interpolation, fill_value=np.min(values[:len(points)]))"
   ]
  },
  {
   "cell_type": "code",
   "execution_count": 14,
   "metadata": {},
   "outputs": [],
   "source": [
    "def calculate_all_measures(dumps):\n",
    "    dumps = m_tsne(dumps)\n",
    "    print(\"tsne mapping computed\")\n",
    "    firstG = m_mst_graph(dumps[0]['projects'])\n",
    "    for dump in dumps:\n",
    "        ps = dump['projects']\n",
    "        graph = m_mst_graph(ps)\n",
    "        scagnostics = m_scagnostics(graph)\n",
    "        dump['combDist'] = m_smallest_dists(ps)\n",
    "        dump['x_y_spread'] = m_x_y_spread(ps)\n",
    "        dump['outlying'] = scagnostics['outlying']\n",
    "        dump['skewed'] = scagnostics['skewed']\n",
    "        dump['sparse'] = scagnostics['sparse']\n",
    "        dump['spearmanr'] = m_spearmanr(ps)\n",
    "        dump['stability'] = m_stability(ps,21)\n",
    "        dump['silhouette'] = m_silhouette(ps,dump['fbs'])\n",
    "        dump['clumpy'] = scagnostics['clumpy']\n",
    "        dump['simFirst'] = m_mean_jaccard(graph,firstG,len(ps))\n",
    "    return dumps"
   ]
  },
  {
   "cell_type": "code",
   "execution_count": 15,
   "metadata": {},
   "outputs": [],
   "source": [
    "def create_new_dump(dumps):\n",
    "    dumpsToSave = []\n",
    "    for perp in set([i['perp'] for i in dumps]):\n",
    "        for lr in set([i['lr'] for i in dumps]):\n",
    "            current = list(filter(lambda x: x['lr'] ==lr and x['perp'] == perp, dumps))\n",
    "            if len(current) > 0:\n",
    "                current.sort(key=lambda tup: tup['stability'])\n",
    "                dumpsToSave.append(current[0])\n",
    "    return dumpsToSave"
   ]
  },
  {
   "cell_type": "code",
   "execution_count": 16,
   "metadata": {},
   "outputs": [],
   "source": [
    "def sortInGrid(measure1, measure2, size, data):\n",
    "    stepsize = math.floor(math.sqrt(len(data))/size)\n",
    "    if stepsize == 0: raise ValueError\n",
    "    data.sort(key=lambda tup: tup[measure1])\n",
    "    sampledData = data[::stepsize] \n",
    "    grid = [None] * size\n",
    "    for i in range (0,size):\n",
    "        grid[i]= sampledData[size*i:size*i+size]\n",
    "        grid[i].sort(key=lambda tup: tup[measure2])  \n",
    "    return grid"
   ]
  },
  {
   "cell_type": "markdown",
   "metadata": {},
   "source": [
    " Computing grid sorted by 2 measures"
   ]
  },
  {
   "cell_type": "code",
   "execution_count": 17,
   "metadata": {},
   "outputs": [],
   "source": [
    "def drawGrid(data=[], size=1, m1='lr', m2='perp'):\n",
    "    grid = sortInGrid(m1,m2, size, data)\n",
    "    fig, axs = plt.subplots(size, size, figsize=(35, 35))\n",
    "    fbsdict = {1: '#ad494a', 2: '#e69e57', 3: '#14a5b5',4:'#9467bd', 5:'#989aa1'}\n",
    "    #clusterdict= {0:'#a6cee3', 1:'#1f78b4', 2:'#b2df8a', 3:'#33a02c',4:'#fb9a99', 5:'#e31a1c', 6:'#fdbf6f', 7:'#ff7f00',8:'#cab2d6',9:'#6a3d9a'}\n",
    "    for x in range(0,size):\n",
    "        for y in range(0,size):\n",
    "            vis = grid[x][y]\n",
    "            #a,b,c = computeClusterTopography(np.array(vis['projects']), vis['entropies'], 400,400, interpolation='linear')\n",
    "            #axs[x,y].contourf(a,b,c, levels=[4.1,4.15,4.2,4.25,4.3,4.35,4.4,4.45,4.5,4.55,4.6,4.65,4.7,4.75,4.8,4.85,4.9,4.95,5], cmap=\"Greys\")\n",
    "            #axs[x,y].pcolormesh(a,b,c, cmap=\"Greys\")\n",
    "            axs[x, y].scatter([i[0] for i in vis['projects']],[i[1] for i in vis['projects']],\n",
    "                        10,[fbsdict[i] for i in vis['fbs']])\n",
    "            axs[x, y].set_title(\"x: \"+ str(round(vis[m2],2))+\" y:\"+ str(round(vis[m1],2)))\n",
    "\n",
    "    for ax in fig.get_axes():\n",
    "        ax.set_facecolor('#0e0e0e')\n",
    "        plt.setp(ax.spines.values(), color='grey', linewidth=2)\n",
    "        ax.get_xaxis().set_visible(False)\n",
    "        ax.get_yaxis().set_visible(False)\n"
   ]
  },
  {
   "cell_type": "code",
   "execution_count": 61,
   "metadata": {
    "scrolled": false
   },
   "outputs": [
    {
     "name": "stdout",
     "output_type": "stream",
     "text": [
      "lr80_p3_seed9_HDP.txt\n"
     ]
    },
    {
     "data": {
      "image/png": "[encoded data removed]",
      "text/plain": [
       "<Figure size 720x720 with 1 Axes>"
      ]
     },
     "metadata": {
      "needs_background": "light"
     },
     "output_type": "display_data"
    }
   ],
   "source": [
    "def drawSingleVis(index,dumps):\n",
    "    vis = dumps[index]\n",
    "    fig, axs = plt.subplots(1, 1, figsize=(10, 10))\n",
    "    cdict = {1: '#ad494a', 2: '#e69e57', 3: '#14a5b5',4:'#9467bd', 5:'#989aa1',6:'#fff',0:'#fff'}\n",
    "    a,b,c = computeClusterTopography(np.array(vis['projects']), vis['entropies'], 100,100, interpolation='linear')\n",
    "    axs.contourf(a,b,c, levels=[0,0.2,0.4,0.6,0.8,1,1.2], cmap=\"Greys\")\n",
    "    #axs.pcolormesh(a,b,c, cmap=\"Greys\")\n",
    "    axs.scatter([i[0] for i in vis['projects']],[i[1] for i in vis['projects']],\n",
    "                    50,[cdict[i] for i in vis['fbs']])\n",
    "    [axs.annotate(x[0], (x[1], x[2])) for x in [[i, vis['projects'][i][0],\n",
    "                                                 vis['projects'][i][1]] for i in range(92)]]\n",
    "\n",
    "    print(vis['name'])\n",
    "    for ax in fig.get_axes():\n",
    "        ax.set_facecolor('#0e0e0e')\n",
    "        ax.get_xaxis().set_visible(False)\n",
    "        ax.get_yaxis().set_visible(False)\n",
    "  \n",
    "    \n",
    "\n",
    "drawSingleVis(4,data)"
   ]
  },
  {
   "cell_type": "code",
   "execution_count": 62,
   "metadata": {},
   "outputs": [],
   "source": [
    "def compute_uncertainties(data):\n",
    "    uncertainties = []\n",
    "    for vis in data:\n",
    "        points = np.array(vis['projects'])\n",
    "        values = vis['entropies']\n",
    "        grid_x, grid_y = np.mgrid[np.min(points[:,0]):np.max(points[:,0]):50*1j, \n",
    "                                  np.min(points[:,1]):np.max(points[:,1]):50*1j]\n",
    "        c = griddata(np.array(points), np.array(values[:len(points)]), (grid_x, grid_y), \n",
    "                     method='linear', fill_value=np.min(values[:len(points)]))\n",
    "        uncertainties.append(c.T.flatten().tolist())\n",
    "    return uncertainties\n",
    " \n"
   ]
  },
  {
   "cell_type": "code",
   "execution_count": 63,
   "metadata": {},
   "outputs": [],
   "source": [
    "def measure_extraction(recreate=False):\n",
    "    if not os.path.isfile('currentCombinedMeasures.json') or recreate:\n",
    "        if os.path.exists('pipeline-results'):\n",
    "            tsnedumps = load_results()\n",
    "            print(str(len(tsnedumps)) + \" dumps loaded\")\n",
    "            results = calculate_all_measures(tsnedumps)\n",
    "            print(str(len(results)) + \" measures calculated\")\n",
    "            with open('currentCombinedMeasures.json', 'w') as filehandle:\n",
    "                json.dump(results, filehandle)\n",
    "\n",
    "    if not os.path.isfile('current_dump.json') or recreate:\n",
    "        with open('currentCombinedMeasures.json') as json_file:\n",
    "            loaded_data = json.load(json_file)\n",
    "            curr_dump = create_new_dump(loaded_data)\n",
    "            print(str(len(curr_dump)) + \" orderings sampled\")\n",
    "            with open('current_dump.json', 'w') as filehandle:\n",
    "                json.dump(curr_dump, filehandle)\n",
    "                \n",
    "            uncertainties = compute_uncertainties(curr_dump)\n",
    "            with open('../src/assets/uncertainties.json', 'w') as filehandle:\n",
    "                json.dump(uncertainties, filehandle)\n",
    "            print(\"uncertainty landscapes computed\")\n",
    "    else:\n",
    "        with open('current_dump.json') as json_file:\n",
    "            curr_dump = json.load(json_file)\n",
    "            print(str(len(curr_dump)) + \" orderings from already existing dump\")\n",
    "            with open('../src/assets/current_dump.json', 'w') as filehandle:\n",
    "                json.dump(  curr_dump,filehandle)\n",
    "    print(\"everything is saved\")"
   ]
  },
  {
   "cell_type": "code",
   "execution_count": 64,
   "metadata": {},
   "outputs": [
    {
     "name": "stdout",
     "output_type": "stream",
     "text": [
      "160 orderings from already existing dump\n",
      "everything is saved\n"
     ]
    },
    {
     "data": {
      "application/vnd.jupyter.widget-view+json": {
       "model_id": "659777af21244a2abe8ddd231bbcd819",
       "version_major": 2,
       "version_minor": 0
      },
      "text/plain": [
       "interactive(children=(IntSlider(value=5, continuous_update=False, description='size', max=12, min=3), Dropdown…"
      ]
     },
     "metadata": {},
     "output_type": "display_data"
    }
   ],
   "source": [
    "from ipywidgets import interact, interactive, fixed, interact_manual, IntSlider, Dropdown, FloatSlider, fixed\n",
    "import ipywidgets as widgets\n",
    "\n",
    "#uncomment the lines below, if you are using the notebook for the first time\n",
    "measure_extraction()\n",
    "with open('../src/assets/current_dump.json') as json_file:\n",
    "    loadedData = json.load(json_file)   \n",
    "\n",
    "def s(x,y):\n",
    "    return IntSlider(min=x,max=y, value=5, continuous_update=False)\n",
    "\n",
    "\n",
    "def measure(default,name):\n",
    "    return widgets.Dropdown(\n",
    "        options=['combDist','x_y_spread','outlying','outlying',\n",
    "                 'skewed','sparse','spearmanr','stability','silhouette','clumpy','simFirst','x_tsne','perp','lr'],\n",
    "        value=default,\n",
    "        description=name+' sorting:',\n",
    "        disabled=False,\n",
    "    )\n",
    "\n",
    "\n",
    "interactive(drawGrid, data=fixed(loadedData), size=s(3,math.floor(math.sqrt(len(loadedData)))), \n",
    "            m1=measure('x_tsne','y'), m2=measure('perp','x'))"
   ]
  },
  {
   "cell_type": "code",
   "execution_count": null,
   "metadata": {},
   "outputs": [],
   "source": []
  }
 ],
 "metadata": {
  "kernelspec": {
   "display_name": "Python 3",
   "language": "python",
   "name": "python3"
  },
  "language_info": {
   "codemirror_mode": {
    "name": "ipython",
    "version": 3
   },
   "file_extension": ".py",
   "mimetype": "text/x-python",
   "name": "python",
   "nbconvert_exporter": "python",
   "pygments_lexer": "ipython3",
   "version": "3.7.7"
  }
 },
 "nbformat": 4,
 "nbformat_minor": 2
}
